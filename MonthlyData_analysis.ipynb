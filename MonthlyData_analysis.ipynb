{
 "cells": [
  {
   "cell_type": "markdown",
   "metadata": {},
   "source": [
    "# Scraping and processing rain data\n",
    "This notebook scraps Meteosuisse rainfall data from a third-party website holding a database"
   ]
  },
  {
   "cell_type": "code",
   "execution_count": 119,
   "metadata": {},
   "outputs": [],
   "source": [
    "from lxml import html\n",
    "import requests\n",
    "import numpy as np\n",
    "import matplotlib.pyplot as plt\n",
    "import pandas as pd\n",
    "\n",
    "from matplotlib import rc\n",
    "rc('font',**{'family':'serif','sans-serif':['Helvetica']})\n",
    "rc('text', usetex=True)\n",
    "plt.rcParams.update({'font.size': 22})"
   ]
  },
  {
   "cell_type": "code",
   "execution_count": null,
   "metadata": {},
   "outputs": [],
   "source": []
  },
  {
   "cell_type": "markdown",
   "metadata": {},
   "source": [
    "## Scraping the data"
   ]
  },
  {
   "cell_type": "code",
   "execution_count": 15,
   "metadata": {},
   "outputs": [],
   "source": [
    "Yr1 = pd.Series({'1': 0,\n",
    "                      '2' : 0,\n",
    "                      '3' : 0,\n",
    "                      '4' : 0,\n",
    "                      '5' : 0,\n",
    "                      '6' : 0,\n",
    "                      '7' : 0,\n",
    "                    '8' : 0,\n",
    "                '9' : 0,\n",
    "                '10' : 0,\n",
    "                '11' : 0,\n",
    "                '12' : 0})\n",
    "df1 = pd.DataFrame([Yr1], index=['0'])"
   ]
  },
  {
   "cell_type": "code",
   "execution_count": 19,
   "metadata": {},
   "outputs": [
    {
     "name": "stdout",
     "output_type": "stream",
     "text": [
      "2019\n"
     ]
    }
   ],
   "source": [
    "for year in np.arange(2000,2020):\n",
    "    Data = np.zeros((1,12))\n",
    "    cnt = 0\n",
    "    for month in np.arange(1,13):\n",
    "        StrMth = str(month)\n",
    "        if month < 10:\n",
    "            StrMth = '0'+StrMth\n",
    "            \n",
    "        page = requests.get('https://www.prevision-meteo.ch/climat/journalier/geneve-cointrin/'+str(year)+'-'+StrMth)\n",
    "        tree = html.fromstring(page.content)\n",
    "        a = str(html.tostring(tree))\n",
    "        b1 = a[a.find('Total'):-1]\n",
    "        b2 = b1[b1.find('min'):-1]\n",
    "        b3 = b2[b2.find('<td>')+4:b2.find('<td>')+8]\n",
    "        if '<' in b3:\n",
    "            b3 = b3[0:b3.find('<')]\n",
    "        Data[0,cnt] = float(b3)\n",
    "        cnt+=1\n",
    "    Yr = pd.Series({'1': Data[0,0],\n",
    "                      '2' : Data[0,1],\n",
    "                      '3' : Data[0,2],\n",
    "                      '4' : Data[0,3],\n",
    "                      '5' : Data[0,4],\n",
    "                      '6' : Data[0,5],\n",
    "                      '7' : Data[0,6],\n",
    "                    '8' : Data[0,7],\n",
    "                    '9' : Data[0,8],\n",
    "                    '10' : Data[0,9],\n",
    "                    '11' : Data[0,10],\n",
    "                    '12' : Data[0,11]})\n",
    "    df =    pd.DataFrame([Yr], index=[str(year)])\n",
    "    df1 = df1.append(df)\n",
    "    print(year)\n",
    "df1 = df1.drop('0')  \n",
    "\n",
    "\n"
   ]
  },
  {
   "cell_type": "markdown",
   "metadata": {},
   "source": [
    "## Processing the data"
   ]
  },
  {
   "cell_type": "code",
   "execution_count": 216,
   "metadata": {},
   "outputs": [
    {
     "data": {
      "text/html": [
       "<div>\n",
       "<style scoped>\n",
       "    .dataframe tbody tr th:only-of-type {\n",
       "        vertical-align: middle;\n",
       "    }\n",
       "\n",
       "    .dataframe tbody tr th {\n",
       "        vertical-align: top;\n",
       "    }\n",
       "\n",
       "    .dataframe thead th {\n",
       "        text-align: right;\n",
       "    }\n",
       "</style>\n",
       "<table border=\"1\" class=\"dataframe\">\n",
       "  <thead>\n",
       "    <tr style=\"text-align: right;\">\n",
       "      <th></th>\n",
       "      <th>1</th>\n",
       "      <th>2</th>\n",
       "      <th>3</th>\n",
       "      <th>4</th>\n",
       "      <th>5</th>\n",
       "      <th>6</th>\n",
       "      <th>7</th>\n",
       "      <th>8</th>\n",
       "      <th>9</th>\n",
       "      <th>10</th>\n",
       "      <th>11</th>\n",
       "      <th>12</th>\n",
       "    </tr>\n",
       "  </thead>\n",
       "  <tbody>\n",
       "    <tr>\n",
       "      <td>2000</td>\n",
       "      <td>17.2</td>\n",
       "      <td>90.9</td>\n",
       "      <td>45.0</td>\n",
       "      <td>78.3</td>\n",
       "      <td>52.2</td>\n",
       "      <td>23.3</td>\n",
       "      <td>118.0</td>\n",
       "      <td>109.0</td>\n",
       "      <td>105.0</td>\n",
       "      <td>131.0</td>\n",
       "      <td>142.0</td>\n",
       "      <td>68.5</td>\n",
       "    </tr>\n",
       "    <tr>\n",
       "      <td>2001</td>\n",
       "      <td>145.0</td>\n",
       "      <td>45.0</td>\n",
       "      <td>284.0</td>\n",
       "      <td>115.0</td>\n",
       "      <td>73.6</td>\n",
       "      <td>128.0</td>\n",
       "      <td>107.0</td>\n",
       "      <td>70.5</td>\n",
       "      <td>92.8</td>\n",
       "      <td>81.4</td>\n",
       "      <td>35.0</td>\n",
       "      <td>37.4</td>\n",
       "    </tr>\n",
       "    <tr>\n",
       "      <td>2002</td>\n",
       "      <td>63.5</td>\n",
       "      <td>78.5</td>\n",
       "      <td>58.1</td>\n",
       "      <td>22.2</td>\n",
       "      <td>147.0</td>\n",
       "      <td>64.9</td>\n",
       "      <td>117.0</td>\n",
       "      <td>91.0</td>\n",
       "      <td>27.9</td>\n",
       "      <td>88.7</td>\n",
       "      <td>253.0</td>\n",
       "      <td>81.5</td>\n",
       "    </tr>\n",
       "    <tr>\n",
       "      <td>2003</td>\n",
       "      <td>80.6</td>\n",
       "      <td>22.7</td>\n",
       "      <td>18.1</td>\n",
       "      <td>60.4</td>\n",
       "      <td>31.5</td>\n",
       "      <td>58.6</td>\n",
       "      <td>40.9</td>\n",
       "      <td>110.0</td>\n",
       "      <td>75.1</td>\n",
       "      <td>176.0</td>\n",
       "      <td>53.9</td>\n",
       "      <td>29.6</td>\n",
       "    </tr>\n",
       "    <tr>\n",
       "      <td>2004</td>\n",
       "      <td>140.0</td>\n",
       "      <td>27.7</td>\n",
       "      <td>60.4</td>\n",
       "      <td>31.8</td>\n",
       "      <td>43.2</td>\n",
       "      <td>61.3</td>\n",
       "      <td>76.7</td>\n",
       "      <td>183.0</td>\n",
       "      <td>16.7</td>\n",
       "      <td>150.0</td>\n",
       "      <td>31.6</td>\n",
       "      <td>20.3</td>\n",
       "    </tr>\n",
       "    <tr>\n",
       "      <td>2005</td>\n",
       "      <td>33.3</td>\n",
       "      <td>18.3</td>\n",
       "      <td>21.3</td>\n",
       "      <td>87.4</td>\n",
       "      <td>75.9</td>\n",
       "      <td>52.3</td>\n",
       "      <td>65.9</td>\n",
       "      <td>76.0</td>\n",
       "      <td>66.2</td>\n",
       "      <td>65.8</td>\n",
       "      <td>37.4</td>\n",
       "      <td>64.8</td>\n",
       "    </tr>\n",
       "    <tr>\n",
       "      <td>2006</td>\n",
       "      <td>23.6</td>\n",
       "      <td>71.1</td>\n",
       "      <td>139.0</td>\n",
       "      <td>116.0</td>\n",
       "      <td>98.0</td>\n",
       "      <td>49.9</td>\n",
       "      <td>48.5</td>\n",
       "      <td>426.0</td>\n",
       "      <td>61.2</td>\n",
       "      <td>106.0</td>\n",
       "      <td>124.0</td>\n",
       "      <td>58.3</td>\n",
       "    </tr>\n",
       "    <tr>\n",
       "      <td>2007</td>\n",
       "      <td>72.7</td>\n",
       "      <td>101.0</td>\n",
       "      <td>79.5</td>\n",
       "      <td>23.2</td>\n",
       "      <td>121.0</td>\n",
       "      <td>166.0</td>\n",
       "      <td>140.0</td>\n",
       "      <td>140.0</td>\n",
       "      <td>90.1</td>\n",
       "      <td>24.6</td>\n",
       "      <td>71.4</td>\n",
       "      <td>88.4</td>\n",
       "    </tr>\n",
       "    <tr>\n",
       "      <td>2008</td>\n",
       "      <td>75.6</td>\n",
       "      <td>31.2</td>\n",
       "      <td>80.0</td>\n",
       "      <td>143.0</td>\n",
       "      <td>66.7</td>\n",
       "      <td>78.0</td>\n",
       "      <td>96.2</td>\n",
       "      <td>91.4</td>\n",
       "      <td>214.0</td>\n",
       "      <td>87.2</td>\n",
       "      <td>43.3</td>\n",
       "      <td>118.0</td>\n",
       "    </tr>\n",
       "    <tr>\n",
       "      <td>2009</td>\n",
       "      <td>71.6</td>\n",
       "      <td>55.1</td>\n",
       "      <td>51.2</td>\n",
       "      <td>36.4</td>\n",
       "      <td>29.1</td>\n",
       "      <td>93.7</td>\n",
       "      <td>84.5</td>\n",
       "      <td>66.9</td>\n",
       "      <td>52.0</td>\n",
       "      <td>39.7</td>\n",
       "      <td>143.0</td>\n",
       "      <td>148.0</td>\n",
       "    </tr>\n",
       "    <tr>\n",
       "      <td>2010</td>\n",
       "      <td>44.4</td>\n",
       "      <td>97.2</td>\n",
       "      <td>60.1</td>\n",
       "      <td>22.0</td>\n",
       "      <td>109.0</td>\n",
       "      <td>76.7</td>\n",
       "      <td>7.2</td>\n",
       "      <td>65.8</td>\n",
       "      <td>36.1</td>\n",
       "      <td>30.6</td>\n",
       "      <td>101.0</td>\n",
       "      <td>96.2</td>\n",
       "    </tr>\n",
       "    <tr>\n",
       "      <td>2011</td>\n",
       "      <td>44.5</td>\n",
       "      <td>14.2</td>\n",
       "      <td>17.1</td>\n",
       "      <td>18.7</td>\n",
       "      <td>36.1</td>\n",
       "      <td>64.7</td>\n",
       "      <td>102.0</td>\n",
       "      <td>70.5</td>\n",
       "      <td>44.5</td>\n",
       "      <td>36.0</td>\n",
       "      <td>18.8</td>\n",
       "      <td>127.0</td>\n",
       "    </tr>\n",
       "    <tr>\n",
       "      <td>2012</td>\n",
       "      <td>82.4</td>\n",
       "      <td>0.4</td>\n",
       "      <td>13.7</td>\n",
       "      <td>108.0</td>\n",
       "      <td>76.7</td>\n",
       "      <td>95.0</td>\n",
       "      <td>45.8</td>\n",
       "      <td>81.7</td>\n",
       "      <td>77.5</td>\n",
       "      <td>49.8</td>\n",
       "      <td>180.0</td>\n",
       "      <td>146.0</td>\n",
       "    </tr>\n",
       "    <tr>\n",
       "      <td>2013</td>\n",
       "      <td>46.4</td>\n",
       "      <td>44.5</td>\n",
       "      <td>77.1</td>\n",
       "      <td>106.0</td>\n",
       "      <td>112.0</td>\n",
       "      <td>55.4</td>\n",
       "      <td>126.0</td>\n",
       "      <td>36.3</td>\n",
       "      <td>69.9</td>\n",
       "      <td>139.0</td>\n",
       "      <td>108.0</td>\n",
       "      <td>101.0</td>\n",
       "    </tr>\n",
       "    <tr>\n",
       "      <td>2014</td>\n",
       "      <td>92.6</td>\n",
       "      <td>121.0</td>\n",
       "      <td>39.4</td>\n",
       "      <td>60.1</td>\n",
       "      <td>70.4</td>\n",
       "      <td>54.6</td>\n",
       "      <td>175.0</td>\n",
       "      <td>52.8</td>\n",
       "      <td>40.0</td>\n",
       "      <td>143.0</td>\n",
       "      <td>107.0</td>\n",
       "      <td>45.7</td>\n",
       "    </tr>\n",
       "    <tr>\n",
       "      <td>2015</td>\n",
       "      <td>80.6</td>\n",
       "      <td>52.2</td>\n",
       "      <td>52.0</td>\n",
       "      <td>63.5</td>\n",
       "      <td>96.1</td>\n",
       "      <td>44.9</td>\n",
       "      <td>28.7</td>\n",
       "      <td>63.4</td>\n",
       "      <td>122.0</td>\n",
       "      <td>35.6</td>\n",
       "      <td>37.3</td>\n",
       "      <td>13.5</td>\n",
       "    </tr>\n",
       "    <tr>\n",
       "      <td>2016</td>\n",
       "      <td>165.0</td>\n",
       "      <td>81.7</td>\n",
       "      <td>38.9</td>\n",
       "      <td>93.5</td>\n",
       "      <td>76.7</td>\n",
       "      <td>132.0</td>\n",
       "      <td>63.3</td>\n",
       "      <td>21.2</td>\n",
       "      <td>33.2</td>\n",
       "      <td>89.7</td>\n",
       "      <td>89.0</td>\n",
       "      <td>0.2</td>\n",
       "    </tr>\n",
       "    <tr>\n",
       "      <td>2017</td>\n",
       "      <td>25.4</td>\n",
       "      <td>51.6</td>\n",
       "      <td>56.8</td>\n",
       "      <td>40.0</td>\n",
       "      <td>81.1</td>\n",
       "      <td>77.4</td>\n",
       "      <td>40.4</td>\n",
       "      <td>62.1</td>\n",
       "      <td>43.8</td>\n",
       "      <td>18.1</td>\n",
       "      <td>63.8</td>\n",
       "      <td>132.0</td>\n",
       "    </tr>\n",
       "    <tr>\n",
       "      <td>2018</td>\n",
       "      <td>173.0</td>\n",
       "      <td>28.9</td>\n",
       "      <td>105.0</td>\n",
       "      <td>19.0</td>\n",
       "      <td>97.7</td>\n",
       "      <td>93.7</td>\n",
       "      <td>49.0</td>\n",
       "      <td>62.5</td>\n",
       "      <td>22.3</td>\n",
       "      <td>27.9</td>\n",
       "      <td>72.6</td>\n",
       "      <td>112.0</td>\n",
       "    </tr>\n",
       "    <tr>\n",
       "      <td>2019</td>\n",
       "      <td>42.6</td>\n",
       "      <td>40.3</td>\n",
       "      <td>45.6</td>\n",
       "      <td>63.1</td>\n",
       "      <td>40.7</td>\n",
       "      <td>112.0</td>\n",
       "      <td>44.4</td>\n",
       "      <td>60.4</td>\n",
       "      <td>25.0</td>\n",
       "      <td>102.0</td>\n",
       "      <td>114.0</td>\n",
       "      <td>140.0</td>\n",
       "    </tr>\n",
       "  </tbody>\n",
       "</table>\n",
       "</div>"
      ],
      "text/plain": [
       "          1      2      3      4      5      6      7      8      9     10  \\\n",
       "2000   17.2   90.9   45.0   78.3   52.2   23.3  118.0  109.0  105.0  131.0   \n",
       "2001  145.0   45.0  284.0  115.0   73.6  128.0  107.0   70.5   92.8   81.4   \n",
       "2002   63.5   78.5   58.1   22.2  147.0   64.9  117.0   91.0   27.9   88.7   \n",
       "2003   80.6   22.7   18.1   60.4   31.5   58.6   40.9  110.0   75.1  176.0   \n",
       "2004  140.0   27.7   60.4   31.8   43.2   61.3   76.7  183.0   16.7  150.0   \n",
       "2005   33.3   18.3   21.3   87.4   75.9   52.3   65.9   76.0   66.2   65.8   \n",
       "2006   23.6   71.1  139.0  116.0   98.0   49.9   48.5  426.0   61.2  106.0   \n",
       "2007   72.7  101.0   79.5   23.2  121.0  166.0  140.0  140.0   90.1   24.6   \n",
       "2008   75.6   31.2   80.0  143.0   66.7   78.0   96.2   91.4  214.0   87.2   \n",
       "2009   71.6   55.1   51.2   36.4   29.1   93.7   84.5   66.9   52.0   39.7   \n",
       "2010   44.4   97.2   60.1   22.0  109.0   76.7    7.2   65.8   36.1   30.6   \n",
       "2011   44.5   14.2   17.1   18.7   36.1   64.7  102.0   70.5   44.5   36.0   \n",
       "2012   82.4    0.4   13.7  108.0   76.7   95.0   45.8   81.7   77.5   49.8   \n",
       "2013   46.4   44.5   77.1  106.0  112.0   55.4  126.0   36.3   69.9  139.0   \n",
       "2014   92.6  121.0   39.4   60.1   70.4   54.6  175.0   52.8   40.0  143.0   \n",
       "2015   80.6   52.2   52.0   63.5   96.1   44.9   28.7   63.4  122.0   35.6   \n",
       "2016  165.0   81.7   38.9   93.5   76.7  132.0   63.3   21.2   33.2   89.7   \n",
       "2017   25.4   51.6   56.8   40.0   81.1   77.4   40.4   62.1   43.8   18.1   \n",
       "2018  173.0   28.9  105.0   19.0   97.7   93.7   49.0   62.5   22.3   27.9   \n",
       "2019   42.6   40.3   45.6   63.1   40.7  112.0   44.4   60.4   25.0  102.0   \n",
       "\n",
       "         11     12  \n",
       "2000  142.0   68.5  \n",
       "2001   35.0   37.4  \n",
       "2002  253.0   81.5  \n",
       "2003   53.9   29.6  \n",
       "2004   31.6   20.3  \n",
       "2005   37.4   64.8  \n",
       "2006  124.0   58.3  \n",
       "2007   71.4   88.4  \n",
       "2008   43.3  118.0  \n",
       "2009  143.0  148.0  \n",
       "2010  101.0   96.2  \n",
       "2011   18.8  127.0  \n",
       "2012  180.0  146.0  \n",
       "2013  108.0  101.0  \n",
       "2014  107.0   45.7  \n",
       "2015   37.3   13.5  \n",
       "2016   89.0    0.2  \n",
       "2017   63.8  132.0  \n",
       "2018   72.6  112.0  \n",
       "2019  114.0  140.0  "
      ]
     },
     "execution_count": 216,
     "metadata": {},
     "output_type": "execute_result"
    }
   ],
   "source": [
    "df1"
   ]
  },
  {
   "cell_type": "code",
   "execution_count": 218,
   "metadata": {},
   "outputs": [],
   "source": [
    "df1.to_csv(r'PrecipitationGVA_month.csv', index = True)\n",
    "df2 = df1.copy()"
   ]
  },
  {
   "cell_type": "code",
   "execution_count": 215,
   "metadata": {},
   "outputs": [
    {
     "data": {
      "text/plain": [
       "2000    17.2\n",
       "2001    35.0\n",
       "2002    22.2\n",
       "2003    18.1\n",
       "2004    16.7\n",
       "2005    18.3\n",
       "2006    23.6\n",
       "2007    23.2\n",
       "2008    31.2\n",
       "2009    29.1\n",
       "2010     7.2\n",
       "2011    14.2\n",
       "2012     0.4\n",
       "2013    36.3\n",
       "2014    39.4\n",
       "2015    13.5\n",
       "2016     0.2\n",
       "2017    18.1\n",
       "2018    19.0\n",
       "2019    25.0\n",
       "dtype: float64"
      ]
     },
     "execution_count": 215,
     "metadata": {},
     "output_type": "execute_result"
    }
   ],
   "source": [
    "df1.min(axis='columns')"
   ]
  },
  {
   "cell_type": "code",
   "execution_count": 112,
   "metadata": {},
   "outputs": [
    {
     "data": {
      "image/png": "[encoded data removed]",
      "text/plain": [
       "<Figure size 432x288 with 1 Axes>"
      ]
     },
     "metadata": {
      "needs_background": "light"
     },
     "output_type": "display_data"
    }
   ],
   "source": [
    "plt.errorbar(np.arange(1,13),df2.mean(axis='index'),df2.std(axis='index'))\n",
    "plt.show()"
   ]
  },
  {
   "cell_type": "code",
   "execution_count": 148,
   "metadata": {},
   "outputs": [
    {
     "data": {
      "image/png": "[encoded data removed]",
      "text/plain": [
       "<Figure size 432x288 with 1 Axes>"
      ]
     },
     "metadata": {
      "needs_background": "light"
     },
     "output_type": "display_data"
    }
   ],
   "source": [
    "df2.boxplot(column=['1','2','3','4','5','6','7','8','9','10','11','12']);#, by = 'diagnosis');"
   ]
  },
  {
   "cell_type": "code",
   "execution_count": 123,
   "metadata": {},
   "outputs": [
    {
     "data": {
      "image/png": "[encoded data removed]",
      "text/plain": [
       "<Figure size 1008x432 with 1 Axes>"
      ]
     },
     "metadata": {
      "needs_background": "light"
     },
     "output_type": "display_data"
    }
   ],
   "source": [
    "plt.figure(figsize=(14,6))\n",
    "plt.plot(df2.sum(axis='columns'),'o')\n",
    "plt.xticks(rotation='vertical')\n",
    "plt.show()"
   ]
  },
  {
   "cell_type": "code",
   "execution_count": 231,
   "metadata": {},
   "outputs": [
    {
     "data": {
      "image/png": "[encoded data removed]",
      "text/plain": [
       "<Figure size 1008x432 with 1 Axes>"
      ]
     },
     "metadata": {
      "needs_background": "light"
     },
     "output_type": "display_data"
    }
   ],
   "source": [
    "Str = []\n",
    "for i in np.arange(0,len(df1.index)):\n",
    "    Str.append(str(df1.index[i]))\n",
    "\n",
    "plt.figure(figsize=(14,6))\n",
    "plt.plot(df2.mean(axis='columns'),'bo')\n",
    "df2.T.boxplot(column=Str);\n",
    "plt.xticks(rotation='vertical')\n",
    "plt.show()\n"
   ]
  },
  {
   "cell_type": "code",
   "execution_count": 227,
   "metadata": {},
   "outputs": [
    {
     "data": {
      "image/png": "[encoded data removed]",
      "text/plain": [
       "<Figure size 1008x432 with 1 Axes>"
      ]
     },
     "metadata": {
      "needs_background": "light"
     },
     "output_type": "display_data"
    }
   ],
   "source": [
    "plt.figure(figsize=(14,6))\n",
    "plt.plot(df2.mean(axis='columns'),'bo')\n",
    "plt.show()"
   ]
  },
  {
   "cell_type": "code",
   "execution_count": null,
   "metadata": {},
   "outputs": [],
   "source": []
  },
  {
   "cell_type": "code",
   "execution_count": null,
   "metadata": {},
   "outputs": [],
   "source": []
  },
  {
   "cell_type": "code",
   "execution_count": null,
   "metadata": {},
   "outputs": [],
   "source": []
  }
 ],
 "metadata": {
  "kernelspec": {
   "display_name": "Python 3",
   "language": "python",
   "name": "python3"
  },
  "language_info": {
   "codemirror_mode": {
    "name": "ipython",
    "version": 3
   },
   "file_extension": ".py",
   "mimetype": "text/x-python",
   "name": "python",
   "nbconvert_exporter": "python",
   "pygments_lexer": "ipython3",
   "version": "3.6.9"
  }
 },
 "nbformat": 4,
 "nbformat_minor": 2
}
